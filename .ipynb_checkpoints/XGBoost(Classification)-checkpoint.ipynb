{
  "nbformat": 4,
  "nbformat_minor": 0,
  "metadata": {
    "colab": {
      "provenance": []
    },
    "kernelspec": {
      "name": "python3",
      "display_name": "Python 3"
    },
    "language_info": {
      "name": "python"
    }
  },
  "cells": [
    {
      "cell_type": "code",
      "execution_count": 1,
      "metadata": {
        "id": "gH5XDRVOjzuZ"
      },
      "outputs": [],
      "source": [
        "import xgboost as xgb\n",
        "from sklearn.datasets import load_iris\n",
        "from sklearn.model_selection import train_test_split, GridSearchCV\n",
        "from sklearn.metrics import accuracy_score, classification_report\n"
      ]
    },
    {
      "cell_type": "code",
      "source": [
        "# import pandas as pd\n",
        "# from sklearn.datasets import load_iris\n",
        "\n",
        "# # Load the Iris dataset\n",
        "# iris = load_iris()\n",
        "\n",
        "# # Convert to DataFrame for easier viewing\n",
        "# iris_df = pd.DataFrame(data=iris.data, columns=iris.feature_names)\n",
        "# iris_df['target'] = iris.target\n",
        "\n",
        "# # Display the DataFrame\n",
        "# print(iris_df.head())\n"
      ],
      "metadata": {
        "id": "hes4NqCck9eK"
      },
      "execution_count": null,
      "outputs": []
    },
    {
      "cell_type": "code",
      "source": [
        "# # Save the DataFrame as a CSV file\n",
        "# iris_df.to_csv('iris_dataset.csv', index=False)\n",
        "\n",
        "# # Download the CSV file\n",
        "# from google.colab import files\n",
        "# files.download('iris_dataset.csv')\n"
      ],
      "metadata": {
        "id": "vGY09q0nlUPs"
      },
      "execution_count": null,
      "outputs": []
    },
    {
      "cell_type": "code",
      "source": [
        "# Load dataset\n",
        "iris = load_iris()\n",
        "X, y = iris.data, iris.target\n",
        "print(X.shape,y.shape)\n"
      ],
      "metadata": {
        "id": "_RPUmma1j3do"
      },
      "execution_count": null,
      "outputs": []
    },
    {
      "cell_type": "code",
      "source": [
        "# Split dataset into training and testing sets\n",
        "X_train, X_test, y_train, y_test = train_test_split(X, y, test_size=0.2, random_state=42)\n"
      ],
      "metadata": {
        "id": "uxmdVhs7j5QF"
      },
      "execution_count": 5,
      "outputs": []
    },
    {
      "cell_type": "code",
      "source": [
        "# Create XGBoost model\n",
        "model = xgb.XGBClassifier(use_label_encoder=False, eval_metric='mlogloss')\n"
      ],
      "metadata": {
        "id": "x5lKvczuj7ao"
      },
      "execution_count": 9,
      "outputs": []
    },
    {
      "cell_type": "code",
      "source": [
        "# Hyperparameters tuning using GridSearchCV\n",
        "param_grid = {\n",
        "    'n_estimators': [50, 100, 150],\n",
        "    'learning_rate': [0.01, 0.1, 0.2],\n",
        "    'max_depth': [3, 5, 7]\n",
        "}\n"
      ],
      "metadata": {
        "id": "T9gEOEMwj9N_"
      },
      "execution_count": 10,
      "outputs": []
    },
    {
      "cell_type": "code",
      "source": [
        "# Cross-validation to find the best parameters\n",
        "grid_search = GridSearchCV(model, param_grid, scoring='accuracy', cv=3)\n",
        "grid_search.fit(X_train, y_train)\n"
      ],
      "metadata": {
        "collapsed": true,
        "id": "hthNkpigj-2r"
      },
      "execution_count": null,
      "outputs": []
    },
    {
      "cell_type": "code",
      "source": [
        "# Train the model with the best parameters\n",
        "best_model = grid_search.best_estimator_\n",
        "best_model.fit(X_train, y_train)\n"
      ],
      "metadata": {
        "id": "EK9VHPKbkAVO"
      },
      "execution_count": null,
      "outputs": []
    },
    {
      "cell_type": "code",
      "source": [
        "# Make predictions\n",
        "y_pred = best_model.predict(X_test)\n",
        "print(y_pred)"
      ],
      "metadata": {
        "id": "dYWUYrxnkBk6"
      },
      "execution_count": null,
      "outputs": []
    },
    {
      "cell_type": "code",
      "source": [
        "# Model evaluation\n",
        "print(\"Best parameters:\", grid_search.best_params_)\n",
        "print(f\"Accuracy: {accuracy_score(y_test, y_pred)}\")\n",
        "print(classification_report(y_test, y_pred))\n"
      ],
      "metadata": {
        "id": "wBk-OaktkC6M"
      },
      "execution_count": null,
      "outputs": []
    },
    {
      "cell_type": "code",
      "source": [],
      "metadata": {
        "id": "t-TxNKpRmQR9"
      },
      "execution_count": null,
      "outputs": []
    }
  ]
}